{
 "cells": [
  {
   "cell_type": "code",
   "execution_count": 145,
   "metadata": {},
   "outputs": [
    {
     "data": {
      "text/html": [
       "<div>\n",
       "<style scoped>\n",
       "    .dataframe tbody tr th:only-of-type {\n",
       "        vertical-align: middle;\n",
       "    }\n",
       "\n",
       "    .dataframe tbody tr th {\n",
       "        vertical-align: top;\n",
       "    }\n",
       "\n",
       "    .dataframe thead th {\n",
       "        text-align: right;\n",
       "    }\n",
       "</style>\n",
       "<table border=\"1\" class=\"dataframe\">\n",
       "  <thead>\n",
       "    <tr style=\"text-align: right;\">\n",
       "      <th></th>\n",
       "      <th>Administrative</th>\n",
       "      <th>Administrative_Duration</th>\n",
       "      <th>Informational</th>\n",
       "      <th>Informational_Duration</th>\n",
       "      <th>ProductRelated</th>\n",
       "      <th>ProductRelated_Duration</th>\n",
       "      <th>BounceRates</th>\n",
       "      <th>ExitRates</th>\n",
       "      <th>PageValues</th>\n",
       "      <th>SpecialDay</th>\n",
       "      <th>Revenue</th>\n",
       "    </tr>\n",
       "  </thead>\n",
       "  <tbody>\n",
       "    <tr>\n",
       "      <th>mean</th>\n",
       "      <td>2.315166</td>\n",
       "      <td>80.818611</td>\n",
       "      <td>0.503569</td>\n",
       "      <td>34.472398</td>\n",
       "      <td>31.731468</td>\n",
       "      <td>1194.74622</td>\n",
       "      <td>0.022191</td>\n",
       "      <td>0.043073</td>\n",
       "      <td>5.889258</td>\n",
       "      <td>0.061427</td>\n",
       "      <td>0.154745</td>\n",
       "    </tr>\n",
       "    <tr>\n",
       "      <th>min</th>\n",
       "      <td>0.000000</td>\n",
       "      <td>0.000000</td>\n",
       "      <td>0.000000</td>\n",
       "      <td>0.000000</td>\n",
       "      <td>0.000000</td>\n",
       "      <td>0.00000</td>\n",
       "      <td>0.000000</td>\n",
       "      <td>0.000000</td>\n",
       "      <td>0.000000</td>\n",
       "      <td>0.000000</td>\n",
       "      <td>0.000000</td>\n",
       "    </tr>\n",
       "    <tr>\n",
       "      <th>max</th>\n",
       "      <td>27.000000</td>\n",
       "      <td>3398.750000</td>\n",
       "      <td>24.000000</td>\n",
       "      <td>2549.375000</td>\n",
       "      <td>705.000000</td>\n",
       "      <td>63973.52223</td>\n",
       "      <td>0.200000</td>\n",
       "      <td>0.200000</td>\n",
       "      <td>361.763742</td>\n",
       "      <td>1.000000</td>\n",
       "      <td>1.000000</td>\n",
       "    </tr>\n",
       "  </tbody>\n",
       "</table>\n",
       "</div>"
      ],
      "text/plain": [
       "      Administrative  Administrative_Duration  Informational  \\\n",
       "mean        2.315166                80.818611       0.503569   \n",
       "min         0.000000                 0.000000       0.000000   \n",
       "max        27.000000              3398.750000      24.000000   \n",
       "\n",
       "      Informational_Duration  ProductRelated  ProductRelated_Duration  \\\n",
       "mean               34.472398       31.731468               1194.74622   \n",
       "min                 0.000000        0.000000                  0.00000   \n",
       "max              2549.375000      705.000000              63973.52223   \n",
       "\n",
       "      BounceRates  ExitRates  PageValues  SpecialDay   Revenue  \n",
       "mean     0.022191   0.043073    5.889258    0.061427  0.154745  \n",
       "min      0.000000   0.000000    0.000000    0.000000  0.000000  \n",
       "max      0.200000   0.200000  361.763742    1.000000  1.000000  "
      ]
     },
     "execution_count": 145,
     "metadata": {},
     "output_type": "execute_result"
    }
   ],
   "source": [
    "from sklearn.model_selection import GridSearchCV\n",
    "from sklearn import preprocessing\n",
    "from sklearn.preprocessing import LabelEncoder\n",
    "from sklearn.model_selection import train_test_split\n",
    "from sklearn.svm import SVR\n",
    "import matplotlib.pyplot as plt\n",
    "import pandas as pd\n",
    "import numpy as np\n",
    "import seaborn as sns\n",
    "from sklearn.cluster import KMeans\n",
    "from sklearn.metrics import pairwise_distances_argmin_min\n",
    "\n",
    "plt.rcParams['figure.figsize'] = (16, 9)\n",
    "plt.style.use('ggplot')\n",
    "df = pd.read_csv(\"https://archive.ics.uci.edu/ml/machine-learning-databases/00468/online_shoppers_intention.csv\")\n",
    "df['Revenue'] = LabelEncoder().fit_transform(df.Revenue.values)\n",
    "l={'OperatingSystems','Browser','Region','TrafficType','VisitorType','Weekend','Month'}\n",
    "for s in l:\n",
    "  df = df.astype({s: object})\n",
    "df.describe().loc[['mean','min','max']]"
   ]
  },
  {
   "cell_type": "code",
   "execution_count": 169,
   "metadata": {},
   "outputs": [
    {
     "data": {
      "text/html": [
       "<div>\n",
       "<style scoped>\n",
       "    .dataframe tbody tr th:only-of-type {\n",
       "        vertical-align: middle;\n",
       "    }\n",
       "\n",
       "    .dataframe tbody tr th {\n",
       "        vertical-align: top;\n",
       "    }\n",
       "\n",
       "    .dataframe thead th {\n",
       "        text-align: right;\n",
       "    }\n",
       "</style>\n",
       "<table border=\"1\" class=\"dataframe\">\n",
       "  <thead>\n",
       "    <tr style=\"text-align: right;\">\n",
       "      <th></th>\n",
       "      <th>Administrative</th>\n",
       "      <th>Administrative_Duration</th>\n",
       "      <th>Informational</th>\n",
       "      <th>Informational_Duration</th>\n",
       "      <th>ProductRelated</th>\n",
       "      <th>ProductRelated_Duration</th>\n",
       "      <th>BounceRates</th>\n",
       "      <th>ExitRates</th>\n",
       "      <th>PageValues</th>\n",
       "      <th>SpecialDay</th>\n",
       "      <th>Revenue</th>\n",
       "      <th>VisitorType_T</th>\n",
       "      <th>Weekend_T</th>\n",
       "      <th>Month_T</th>\n",
       "      <th>Browser_T</th>\n",
       "      <th>TrafficType_T</th>\n",
       "    </tr>\n",
       "  </thead>\n",
       "  <tbody>\n",
       "    <tr>\n",
       "      <th>count</th>\n",
       "      <td>12330.000000</td>\n",
       "      <td>12330.000000</td>\n",
       "      <td>12330.000000</td>\n",
       "      <td>12330.000000</td>\n",
       "      <td>12330.000000</td>\n",
       "      <td>12330.000000</td>\n",
       "      <td>12330.000000</td>\n",
       "      <td>12330.000000</td>\n",
       "      <td>12330.000000</td>\n",
       "      <td>12330.000000</td>\n",
       "      <td>12330.000000</td>\n",
       "      <td>12330.000000</td>\n",
       "      <td>12330.000000</td>\n",
       "      <td>12330.000000</td>\n",
       "      <td>12330.000000</td>\n",
       "      <td>12330.000000</td>\n",
       "    </tr>\n",
       "    <tr>\n",
       "      <th>mean</th>\n",
       "      <td>2.315166</td>\n",
       "      <td>80.818611</td>\n",
       "      <td>0.503569</td>\n",
       "      <td>34.472398</td>\n",
       "      <td>31.731468</td>\n",
       "      <td>1194.746220</td>\n",
       "      <td>0.022191</td>\n",
       "      <td>0.043073</td>\n",
       "      <td>5.889258</td>\n",
       "      <td>0.061427</td>\n",
       "      <td>0.154745</td>\n",
       "      <td>0.869505</td>\n",
       "      <td>0.232603</td>\n",
       "      <td>2.143633</td>\n",
       "      <td>1.155718</td>\n",
       "      <td>1.779238</td>\n",
       "    </tr>\n",
       "    <tr>\n",
       "      <th>std</th>\n",
       "      <td>3.321784</td>\n",
       "      <td>176.779107</td>\n",
       "      <td>1.270156</td>\n",
       "      <td>140.749294</td>\n",
       "      <td>44.475503</td>\n",
       "      <td>1913.669288</td>\n",
       "      <td>0.048488</td>\n",
       "      <td>0.048597</td>\n",
       "      <td>18.568437</td>\n",
       "      <td>0.198917</td>\n",
       "      <td>0.361676</td>\n",
       "      <td>0.356740</td>\n",
       "      <td>0.422509</td>\n",
       "      <td>0.757188</td>\n",
       "      <td>0.473914</td>\n",
       "      <td>0.790234</td>\n",
       "    </tr>\n",
       "    <tr>\n",
       "      <th>min</th>\n",
       "      <td>0.000000</td>\n",
       "      <td>0.000000</td>\n",
       "      <td>0.000000</td>\n",
       "      <td>0.000000</td>\n",
       "      <td>0.000000</td>\n",
       "      <td>0.000000</td>\n",
       "      <td>0.000000</td>\n",
       "      <td>0.000000</td>\n",
       "      <td>0.000000</td>\n",
       "      <td>0.000000</td>\n",
       "      <td>0.000000</td>\n",
       "      <td>0.000000</td>\n",
       "      <td>0.000000</td>\n",
       "      <td>1.000000</td>\n",
       "      <td>1.000000</td>\n",
       "      <td>1.000000</td>\n",
       "    </tr>\n",
       "    <tr>\n",
       "      <th>25%</th>\n",
       "      <td>0.000000</td>\n",
       "      <td>0.000000</td>\n",
       "      <td>0.000000</td>\n",
       "      <td>0.000000</td>\n",
       "      <td>7.000000</td>\n",
       "      <td>184.137500</td>\n",
       "      <td>0.000000</td>\n",
       "      <td>0.014286</td>\n",
       "      <td>0.000000</td>\n",
       "      <td>0.000000</td>\n",
       "      <td>0.000000</td>\n",
       "      <td>1.000000</td>\n",
       "      <td>0.000000</td>\n",
       "      <td>2.000000</td>\n",
       "      <td>1.000000</td>\n",
       "      <td>1.000000</td>\n",
       "    </tr>\n",
       "    <tr>\n",
       "      <th>50%</th>\n",
       "      <td>1.000000</td>\n",
       "      <td>7.500000</td>\n",
       "      <td>0.000000</td>\n",
       "      <td>0.000000</td>\n",
       "      <td>18.000000</td>\n",
       "      <td>598.936905</td>\n",
       "      <td>0.003112</td>\n",
       "      <td>0.025156</td>\n",
       "      <td>0.000000</td>\n",
       "      <td>0.000000</td>\n",
       "      <td>0.000000</td>\n",
       "      <td>1.000000</td>\n",
       "      <td>0.000000</td>\n",
       "      <td>2.000000</td>\n",
       "      <td>1.000000</td>\n",
       "      <td>2.000000</td>\n",
       "    </tr>\n",
       "    <tr>\n",
       "      <th>75%</th>\n",
       "      <td>4.000000</td>\n",
       "      <td>93.256250</td>\n",
       "      <td>0.000000</td>\n",
       "      <td>0.000000</td>\n",
       "      <td>38.000000</td>\n",
       "      <td>1464.157213</td>\n",
       "      <td>0.016813</td>\n",
       "      <td>0.050000</td>\n",
       "      <td>0.000000</td>\n",
       "      <td>0.000000</td>\n",
       "      <td>0.000000</td>\n",
       "      <td>1.000000</td>\n",
       "      <td>0.000000</td>\n",
       "      <td>3.000000</td>\n",
       "      <td>1.000000</td>\n",
       "      <td>2.000000</td>\n",
       "    </tr>\n",
       "    <tr>\n",
       "      <th>max</th>\n",
       "      <td>27.000000</td>\n",
       "      <td>3398.750000</td>\n",
       "      <td>24.000000</td>\n",
       "      <td>2549.375000</td>\n",
       "      <td>705.000000</td>\n",
       "      <td>63973.522230</td>\n",
       "      <td>0.200000</td>\n",
       "      <td>0.200000</td>\n",
       "      <td>361.763742</td>\n",
       "      <td>1.000000</td>\n",
       "      <td>1.000000</td>\n",
       "      <td>2.000000</td>\n",
       "      <td>1.000000</td>\n",
       "      <td>4.000000</td>\n",
       "      <td>9.000000</td>\n",
       "      <td>17.000000</td>\n",
       "    </tr>\n",
       "  </tbody>\n",
       "</table>\n",
       "</div>"
      ],
      "text/plain": [
       "       Administrative  Administrative_Duration  Informational  \\\n",
       "count    12330.000000             12330.000000   12330.000000   \n",
       "mean         2.315166                80.818611       0.503569   \n",
       "std          3.321784               176.779107       1.270156   \n",
       "min          0.000000                 0.000000       0.000000   \n",
       "25%          0.000000                 0.000000       0.000000   \n",
       "50%          1.000000                 7.500000       0.000000   \n",
       "75%          4.000000                93.256250       0.000000   \n",
       "max         27.000000              3398.750000      24.000000   \n",
       "\n",
       "       Informational_Duration  ProductRelated  ProductRelated_Duration  \\\n",
       "count            12330.000000    12330.000000             12330.000000   \n",
       "mean                34.472398       31.731468              1194.746220   \n",
       "std                140.749294       44.475503              1913.669288   \n",
       "min                  0.000000        0.000000                 0.000000   \n",
       "25%                  0.000000        7.000000               184.137500   \n",
       "50%                  0.000000       18.000000               598.936905   \n",
       "75%                  0.000000       38.000000              1464.157213   \n",
       "max               2549.375000      705.000000             63973.522230   \n",
       "\n",
       "        BounceRates     ExitRates    PageValues    SpecialDay       Revenue  \\\n",
       "count  12330.000000  12330.000000  12330.000000  12330.000000  12330.000000   \n",
       "mean       0.022191      0.043073      5.889258      0.061427      0.154745   \n",
       "std        0.048488      0.048597     18.568437      0.198917      0.361676   \n",
       "min        0.000000      0.000000      0.000000      0.000000      0.000000   \n",
       "25%        0.000000      0.014286      0.000000      0.000000      0.000000   \n",
       "50%        0.003112      0.025156      0.000000      0.000000      0.000000   \n",
       "75%        0.016813      0.050000      0.000000      0.000000      0.000000   \n",
       "max        0.200000      0.200000    361.763742      1.000000      1.000000   \n",
       "\n",
       "       VisitorType_T     Weekend_T       Month_T     Browser_T  TrafficType_T  \n",
       "count   12330.000000  12330.000000  12330.000000  12330.000000   12330.000000  \n",
       "mean        0.869505      0.232603      2.143633      1.155718       1.779238  \n",
       "std         0.356740      0.422509      0.757188      0.473914       0.790234  \n",
       "min         0.000000      0.000000      1.000000      1.000000       1.000000  \n",
       "25%         1.000000      0.000000      2.000000      1.000000       1.000000  \n",
       "50%         1.000000      0.000000      2.000000      1.000000       2.000000  \n",
       "75%         1.000000      0.000000      3.000000      1.000000       2.000000  \n",
       "max         2.000000      1.000000      4.000000      9.000000      17.000000  "
      ]
     },
     "execution_count": 169,
     "metadata": {},
     "output_type": "execute_result"
    }
   ],
   "source": [
    "df.describe()"
   ]
  },
  {
   "cell_type": "code",
   "execution_count": 130,
   "metadata": {},
   "outputs": [
    {
     "data": {
      "text/plain": [
       "0    10422\n",
       "1     1908\n",
       "Name: Revenue, dtype: int64"
      ]
     },
     "execution_count": 130,
     "metadata": {},
     "output_type": "execute_result"
    }
   ],
   "source": [
    "df['Revenue'].value_counts(dropna=True)"
   ]
  },
  {
   "cell_type": "markdown",
   "metadata": {},
   "source": [
    "## Modelando"
   ]
  },
  {
   "cell_type": "code",
   "execution_count": 146,
   "metadata": {},
   "outputs": [],
   "source": [
    "# Reemplazando valores\n",
    "df['VisitorType_T']=df['VisitorType']\n",
    "\n",
    "\n",
    "df['VisitorType_T'] = df['VisitorType_T'].replace('New_Visitor',0)\n",
    "df['VisitorType_T'] = df['VisitorType_T'].replace('Returning_Visitor',1)\n",
    "df['VisitorType_T'] = df['VisitorType_T'].replace('Other',2)\n",
    "\n",
    "df['Weekend_T']=df['Weekend']\n",
    "df['Weekend_T'] = df['Weekend_T'].astype(int)\n",
    "\n",
    "df['Month_T']=df['Month']\n",
    "\n",
    "df['Month_T'] = df['Month_T'].replace('Feb',4)\n",
    "df['Month_T'] = df['Month_T'].replace('Mar',2)\n",
    "df['Month_T'] = df['Month_T'].replace('May',2)\n",
    "df['Month_T'] = df['Month_T'].replace('June',2)\n",
    "df['Month_T'] = df['Month_T'].replace('Jul',1)\n",
    "df['Month_T'] = df['Month_T'].replace('Aug',1)\n",
    "df['Month_T'] = df['Month_T'].replace('Sep',3)\n",
    "df['Month_T'] = df['Month_T'].replace('Oct',3)\n",
    "df['Month_T'] = df['Month_T'].replace('Nov',3)\n",
    "df['Month_T'] = df['Month_T'].replace('Dec',1)\n",
    "\n",
    "df['Browser_T']=df['Browser']\n",
    "\n",
    "df['Browser_T'] = df['Browser_T'].replace(1,1)\n",
    "df['Browser_T'] = df['Browser_T'].replace(2,1)\n",
    "df['Browser_T'] = df['Browser_T'].replace(6,1)\n",
    "df['Browser_T'] = df['Browser_T'].replace(7,1)\n",
    "df['Browser_T'] = df['Browser_T'].replace(8,1)\n",
    "\n",
    "df['Browser_T'] = df['Browser_T'].replace(4,2)\n",
    "df['Browser_T'] = df['Browser_T'].replace(5,2)\n",
    "df['Browser_T'] = df['Browser_T'].replace(10,2)\n",
    "\n",
    "df['Browser_T'] = df['Browser_T'].replace(12,3)\n",
    "df['Browser_T'] = df['Browser_T'].replace(13,3)\n",
    "df['Browser_T'] = df['Browser_T'].replace(11,3)\n",
    "\n",
    "df['Browser_T'] = df['Browser_T'].replace(3,4)\n",
    "\n",
    "\n",
    "df['TrafficType_T']=df['TrafficType']\n",
    "\n",
    "\n",
    "df['TrafficType_T'] = df['TrafficType_T'].replace(1,1)\n",
    "df['TrafficType_T'] = df['TrafficType_T'].replace(3,1)\n",
    "df['TrafficType_T'] = df['TrafficType_T'].replace(9,1)\n",
    "df['TrafficType_T'] = df['TrafficType_T'].replace(13,1)\n",
    "df['TrafficType_T'] = df['TrafficType_T'].replace(14,1)\n",
    "df['TrafficType_T'] = df['TrafficType_T'].replace(19,1)\n",
    "\n",
    "df['TrafficType_T'] = df['TrafficType_T'].replace(2,2)\n",
    "df['TrafficType_T'] = df['TrafficType_T'].replace(7,2)\n",
    "df['TrafficType_T'] = df['TrafficType_T'].replace(8,2)\n",
    "df['TrafficType_T'] = df['TrafficType_T'].replace(16,2)\n",
    "df['TrafficType_T'] = df['TrafficType_T'].replace(20,2)\n",
    "\n",
    "df['TrafficType_T'] = df['TrafficType_T'].replace(4,3)\n",
    "df['TrafficType_T'] = df['TrafficType_T'].replace(5,3)\n",
    "df['TrafficType_T'] = df['TrafficType_T'].replace(6,3)\n",
    "df['TrafficType_T'] = df['TrafficType_T'].replace(10,3)\n",
    "df['TrafficType_T'] = df['TrafficType_T'].replace(11,3)\n",
    "\n",
    "df['TrafficType_T'] = df['TrafficType_T'].replace(15,4)\n",
    "df['TrafficType_T'] = df['TrafficType_T'].replace(18,4)\n"
   ]
  },
  {
   "cell_type": "markdown",
   "metadata": {},
   "source": [
    "# Eliminando outliers"
   ]
  },
  {
   "cell_type": "code",
   "execution_count": 221,
   "metadata": {},
   "outputs": [
    {
     "data": {
      "image/png": "[encoded data removed]",
      "text/plain": [
       "<Figure size 1152x648 with 1 Axes>"
      ]
     },
     "metadata": {},
     "output_type": "display_data"
    }
   ],
   "source": [
    "import seaborn as sns\n",
    "sns.set_theme(style=\"whitegrid\")\n",
    "ax = sns.boxplot(x=df1['ProductRelated_Duration'])"
   ]
  },
  {
   "cell_type": "code",
   "execution_count": 217,
   "metadata": {},
   "outputs": [
    {
     "data": {
      "image/png": "[encoded data removed]",
      "text/plain": [
       "<Figure size 1152x648 with 1 Axes>"
      ]
     },
     "metadata": {},
     "output_type": "display_data"
    }
   ],
   "source": [
    "ax = sns.boxplot(x=\"Revenue\", y=\"ProductRelated_Duration\", data=df1)"
   ]
  },
  {
   "cell_type": "code",
   "execution_count": null,
   "metadata": {},
   "outputs": [],
   "source": [
    "df1[df1['Informational_Duration']>2500].count()"
   ]
  },
  {
   "cell_type": "code",
   "execution_count": 227,
   "metadata": {},
   "outputs": [],
   "source": [
    "df1 = df.drop(df[df['Administrative_Duration']>1600].index)"
   ]
  },
  {
   "cell_type": "code",
   "execution_count": 228,
   "metadata": {},
   "outputs": [],
   "source": [
    "df1 = df1.drop(df1[df1['ProductRelated_Duration']>2500].index)"
   ]
  },
  {
   "cell_type": "code",
   "execution_count": 229,
   "metadata": {},
   "outputs": [
    {
     "name": "stdout",
     "output_type": "stream",
     "text": [
      "(7530, 19) (3228, 19)\n"
     ]
    }
   ],
   "source": [
    "X = df1[[\"Administrative_Duration\",\"Informational_Duration\",\"ProductRelated_Duration\",\"PageValues\",\n",
    "                   \"SpecialDay\",\"VisitorType_T\",\"TrafficType_T\",\"Weekend_T\",\"Browser_T\",\"Month_T\"]]\n",
    "y = df1['Revenue']\n",
    "\n",
    "X = pd.get_dummies(X, columns = [\"VisitorType_T\", \"Weekend_T\",\"TrafficType_T\",\"Browser_T\",\"Month_T\"], drop_first = True)\n",
    "\n",
    "X_train, X_test, y_train, y_test = train_test_split(X,y, test_size=0.3, stratify=y, random_state=42)\n",
    "print(X_train.shape, X_test.shape)"
   ]
  },
  {
   "cell_type": "code",
   "execution_count": 230,
   "metadata": {},
   "outputs": [
    {
     "name": "stdout",
     "output_type": "stream",
     "text": [
      "Con KNN\n",
      "SCORE 0.88909541511772\n"
     ]
    }
   ],
   "source": [
    "from sklearn.neighbors import KNeighborsClassifier\n",
    "knn = KNeighborsClassifier(n_neighbors=4) #4\n",
    "knn.fit(X_train, y_train)\n",
    "print('Con KNN')\n",
    "print('SCORE', knn.score(X_test, y_test))"
   ]
  },
  {
   "cell_type": "code",
   "execution_count": 231,
   "metadata": {},
   "outputs": [
    {
     "name": "stdout",
     "output_type": "stream",
     "text": [
      "Con random forestt\n",
      "SCORE 0.9073729863692689\n"
     ]
    }
   ],
   "source": [
    "from sklearn.ensemble import RandomForestClassifier, VotingClassifier\n",
    "rfc = RandomForestClassifier()\n",
    "rfc.fit(X_train, y_train)\n",
    "print('Con random forestt')\n",
    "print('SCORE', rfc.score(X_test, y_test))"
   ]
  },
  {
   "cell_type": "code",
   "execution_count": 232,
   "metadata": {},
   "outputs": [
    {
     "name": "stdout",
     "output_type": "stream",
     "text": [
      "Con SVC\n",
      "SCORE 0.872366790582404\n"
     ]
    }
   ],
   "source": [
    "from sklearn.svm import SVC\n",
    "svm = SVC(kernel='poly', degree=2)\n",
    "svm.fit(X_train, y_train)\n",
    "print('Con SVC')\n",
    "print('SCORE', svm.score(X_test, y_test))"
   ]
  },
  {
   "cell_type": "code",
   "execution_count": 233,
   "metadata": {},
   "outputs": [
    {
     "name": "stdout",
     "output_type": "stream",
     "text": [
      "COn ensemble Voting\n",
      "SCORE 0.8940520446096655\n"
     ]
    }
   ],
   "source": [
    "evc = VotingClassifier(estimators=[('rfc', rfc), ('knn', knn), ('svm', svm)], voting='hard')\n",
    "evc.fit(X_train, y_train)\n",
    "print('COn ensemble Voting')\n",
    "print('SCORE', evc.score(X_test, y_test))"
   ]
  }
 ],
 "metadata": {
  "kernelspec": {
   "display_name": "Python 3",
   "language": "python",
   "name": "python3"
  },
  "language_info": {
   "codemirror_mode": {
    "name": "ipython",
    "version": 3
   },
   "file_extension": ".py",
   "mimetype": "text/x-python",
   "name": "python",
   "nbconvert_exporter": "python",
   "pygments_lexer": "ipython3",
   "version": "3.8.3"
  }
 },
 "nbformat": 4,
 "nbformat_minor": 4
}

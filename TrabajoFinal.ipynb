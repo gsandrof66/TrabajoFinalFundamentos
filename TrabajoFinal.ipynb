{
  "nbformat": 4,
  "nbformat_minor": 0,
  "metadata": {
    "colab": {
      "name": "TrabajoFinal.ipynb",
      "provenance": [],
      "collapsed_sections": []
    },
    "kernelspec": {
      "name": "python3",
      "display_name": "Python 3"
    },
    "accelerator": "TPU"
  },
  "cells": [
    {
      "cell_type": "markdown",
      "metadata": {
        "id": "CmzTpzRQwz2b"
      },
      "source": [
        "**Trabajo Final Fundamentos de aprendizaje de máquina**"
      ]
    },
    {
      "cell_type": "markdown",
      "metadata": {
        "id": "tWpgCIetuVg_"
      },
      "source": [
        "*Integrantes*\r\n",
        "\r\n",
        "*   Antayhua, Miguel\r\n",
        "*   Barrueta, Marleny\r\n",
        "*   Fuertes, Sandro"
      ]
    },
    {
      "cell_type": "code",
      "metadata": {
        "colab": {
          "base_uri": "https://localhost:8080/",
          "height": 320
        },
        "id": "RYedb6CzxDhv",
        "outputId": "0543354a-05f3-43bb-a22c-6006538429df"
      },
      "source": [
        "import pandas as pd, numpy as np, matplotlib.pyplot as plt, seaborn as sb\r\n",
        "from sklearn.preprocessing import LabelEncoder\r\n",
        "from sklearn.model_selection import train_test_split\r\n",
        "plt.rcParams['figure.figsize'] = (18, 10)\r\n",
        "plt.style.use('seaborn')\r\n",
        "df = pd.read_csv(\"https://archive.ics.uci.edu/ml/machine-learning-databases/00468/online_shoppers_intention.csv\")\r\n",
        "df['Revenue'] = LabelEncoder().fit_transform(df.Revenue.values)\r\n",
        "l={'OperatingSystems','Browser','Region','TrafficType','VisitorType','Weekend','Month'}\r\n",
        "for s in l:\r\n",
        "  df = df.astype({s: object})\r\n",
        "df.describe()"
      ],
      "execution_count": 2,
      "outputs": [
        {
          "output_type": "execute_result",
          "data": {
            "text/html": [
              "<div>\n",
              "<style scoped>\n",
              "    .dataframe tbody tr th:only-of-type {\n",
              "        vertical-align: middle;\n",
              "    }\n",
              "\n",
              "    .dataframe tbody tr th {\n",
              "        vertical-align: top;\n",
              "    }\n",
              "\n",
              "    .dataframe thead th {\n",
              "        text-align: right;\n",
              "    }\n",
              "</style>\n",
              "<table border=\"1\" class=\"dataframe\">\n",
              "  <thead>\n",
              "    <tr style=\"text-align: right;\">\n",
              "      <th></th>\n",
              "      <th>Administrative</th>\n",
              "      <th>Administrative_Duration</th>\n",
              "      <th>Informational</th>\n",
              "      <th>Informational_Duration</th>\n",
              "      <th>ProductRelated</th>\n",
              "      <th>ProductRelated_Duration</th>\n",
              "      <th>BounceRates</th>\n",
              "      <th>ExitRates</th>\n",
              "      <th>PageValues</th>\n",
              "      <th>SpecialDay</th>\n",
              "      <th>Revenue</th>\n",
              "    </tr>\n",
              "  </thead>\n",
              "  <tbody>\n",
              "    <tr>\n",
              "      <th>count</th>\n",
              "      <td>12330.000000</td>\n",
              "      <td>12330.000000</td>\n",
              "      <td>12330.000000</td>\n",
              "      <td>12330.000000</td>\n",
              "      <td>12330.000000</td>\n",
              "      <td>12330.000000</td>\n",
              "      <td>12330.000000</td>\n",
              "      <td>12330.000000</td>\n",
              "      <td>12330.000000</td>\n",
              "      <td>12330.000000</td>\n",
              "      <td>12330.000000</td>\n",
              "    </tr>\n",
              "    <tr>\n",
              "      <th>mean</th>\n",
              "      <td>2.315166</td>\n",
              "      <td>80.818611</td>\n",
              "      <td>0.503569</td>\n",
              "      <td>34.472398</td>\n",
              "      <td>31.731468</td>\n",
              "      <td>1194.746220</td>\n",
              "      <td>0.022191</td>\n",
              "      <td>0.043073</td>\n",
              "      <td>5.889258</td>\n",
              "      <td>0.061427</td>\n",
              "      <td>0.154745</td>\n",
              "    </tr>\n",
              "    <tr>\n",
              "      <th>std</th>\n",
              "      <td>3.321784</td>\n",
              "      <td>176.779107</td>\n",
              "      <td>1.270156</td>\n",
              "      <td>140.749294</td>\n",
              "      <td>44.475503</td>\n",
              "      <td>1913.669288</td>\n",
              "      <td>0.048488</td>\n",
              "      <td>0.048597</td>\n",
              "      <td>18.568437</td>\n",
              "      <td>0.198917</td>\n",
              "      <td>0.361676</td>\n",
              "    </tr>\n",
              "    <tr>\n",
              "      <th>min</th>\n",
              "      <td>0.000000</td>\n",
              "      <td>0.000000</td>\n",
              "      <td>0.000000</td>\n",
              "      <td>0.000000</td>\n",
              "      <td>0.000000</td>\n",
              "      <td>0.000000</td>\n",
              "      <td>0.000000</td>\n",
              "      <td>0.000000</td>\n",
              "      <td>0.000000</td>\n",
              "      <td>0.000000</td>\n",
              "      <td>0.000000</td>\n",
              "    </tr>\n",
              "    <tr>\n",
              "      <th>25%</th>\n",
              "      <td>0.000000</td>\n",
              "      <td>0.000000</td>\n",
              "      <td>0.000000</td>\n",
              "      <td>0.000000</td>\n",
              "      <td>7.000000</td>\n",
              "      <td>184.137500</td>\n",
              "      <td>0.000000</td>\n",
              "      <td>0.014286</td>\n",
              "      <td>0.000000</td>\n",
              "      <td>0.000000</td>\n",
              "      <td>0.000000</td>\n",
              "    </tr>\n",
              "    <tr>\n",
              "      <th>50%</th>\n",
              "      <td>1.000000</td>\n",
              "      <td>7.500000</td>\n",
              "      <td>0.000000</td>\n",
              "      <td>0.000000</td>\n",
              "      <td>18.000000</td>\n",
              "      <td>598.936905</td>\n",
              "      <td>0.003112</td>\n",
              "      <td>0.025156</td>\n",
              "      <td>0.000000</td>\n",
              "      <td>0.000000</td>\n",
              "      <td>0.000000</td>\n",
              "    </tr>\n",
              "    <tr>\n",
              "      <th>75%</th>\n",
              "      <td>4.000000</td>\n",
              "      <td>93.256250</td>\n",
              "      <td>0.000000</td>\n",
              "      <td>0.000000</td>\n",
              "      <td>38.000000</td>\n",
              "      <td>1464.157213</td>\n",
              "      <td>0.016813</td>\n",
              "      <td>0.050000</td>\n",
              "      <td>0.000000</td>\n",
              "      <td>0.000000</td>\n",
              "      <td>0.000000</td>\n",
              "    </tr>\n",
              "    <tr>\n",
              "      <th>max</th>\n",
              "      <td>27.000000</td>\n",
              "      <td>3398.750000</td>\n",
              "      <td>24.000000</td>\n",
              "      <td>2549.375000</td>\n",
              "      <td>705.000000</td>\n",
              "      <td>63973.522230</td>\n",
              "      <td>0.200000</td>\n",
              "      <td>0.200000</td>\n",
              "      <td>361.763742</td>\n",
              "      <td>1.000000</td>\n",
              "      <td>1.000000</td>\n",
              "    </tr>\n",
              "  </tbody>\n",
              "</table>\n",
              "</div>"
            ],
            "text/plain": [
              "       Administrative  Administrative_Duration  ...    SpecialDay       Revenue\n",
              "count    12330.000000             12330.000000  ...  12330.000000  12330.000000\n",
              "mean         2.315166                80.818611  ...      0.061427      0.154745\n",
              "std          3.321784               176.779107  ...      0.198917      0.361676\n",
              "min          0.000000                 0.000000  ...      0.000000      0.000000\n",
              "25%          0.000000                 0.000000  ...      0.000000      0.000000\n",
              "50%          1.000000                 7.500000  ...      0.000000      0.000000\n",
              "75%          4.000000                93.256250  ...      0.000000      0.000000\n",
              "max         27.000000              3398.750000  ...      1.000000      1.000000\n",
              "\n",
              "[8 rows x 11 columns]"
            ]
          },
          "metadata": {
            "tags": []
          },
          "execution_count": 2
        }
      ]
    },
    {
      "cell_type": "code",
      "metadata": {
        "colab": {
          "base_uri": "https://localhost:8080/"
        },
        "id": "GT-yxH-u5DAf",
        "outputId": "350b97aa-7744-45ab-df54-d00d1331f409"
      },
      "source": [
        "df.info()"
      ],
      "execution_count": 3,
      "outputs": [
        {
          "output_type": "stream",
          "text": [
            "<class 'pandas.core.frame.DataFrame'>\n",
            "RangeIndex: 12330 entries, 0 to 12329\n",
            "Data columns (total 18 columns):\n",
            " #   Column                   Non-Null Count  Dtype  \n",
            "---  ------                   --------------  -----  \n",
            " 0   Administrative           12330 non-null  int64  \n",
            " 1   Administrative_Duration  12330 non-null  float64\n",
            " 2   Informational            12330 non-null  int64  \n",
            " 3   Informational_Duration   12330 non-null  float64\n",
            " 4   ProductRelated           12330 non-null  int64  \n",
            " 5   ProductRelated_Duration  12330 non-null  float64\n",
            " 6   BounceRates              12330 non-null  float64\n",
            " 7   ExitRates                12330 non-null  float64\n",
            " 8   PageValues               12330 non-null  float64\n",
            " 9   SpecialDay               12330 non-null  float64\n",
            " 10  Month                    12330 non-null  object \n",
            " 11  OperatingSystems         12330 non-null  object \n",
            " 12  Browser                  12330 non-null  object \n",
            " 13  Region                   12330 non-null  object \n",
            " 14  TrafficType              12330 non-null  object \n",
            " 15  VisitorType              12330 non-null  object \n",
            " 16  Weekend                  12330 non-null  object \n",
            " 17  Revenue                  12330 non-null  int64  \n",
            "dtypes: float64(7), int64(4), object(7)\n",
            "memory usage: 1.7+ MB\n"
          ],
          "name": "stdout"
        }
      ]
    },
    {
      "cell_type": "markdown",
      "metadata": {
        "id": "JKnQXHCLck4z"
      },
      "source": [
        "**Gráfica de Barras - variables cualitativas**"
      ]
    },
    {
      "cell_type": "code",
      "metadata": {
        "colab": {
          "base_uri": "https://localhost:8080/",
          "height": 428
        },
        "id": "JXRkxzvulgtx",
        "outputId": "10787e74-54d7-488a-870d-998b82ce9cb6"
      },
      "source": [
        "columnas_object = df.select_dtypes(include=['object']).columns\r\n",
        "fig, axes = plt.subplots(nrows=1, ncols=len(columnas_object), figsize=(18, 5))\r\n",
        "axes = axes.flat\r\n",
        "print(columnas_object, len(columnas_object))\r\n",
        "for i, colum in enumerate(columnas_object):\r\n",
        "    df[colum].value_counts().plot.barh(ax = axes[i])\r\n",
        "    axes[i].set_title(colum, fontsize = 10, fontweight = \"bold\")\r\n",
        "    axes[i].tick_params(labelsize = 9)\r\n",
        "    axes[i].set_xlabel(\"\")\r\n",
        "fig.tight_layout()\r\n",
        "plt.subplots_adjust(top=0.9)\r\n",
        "fig.suptitle('Distribución variables cualitativas', fontsize = 10, fontweight = \"bold\");"
      ],
      "execution_count": 4,
      "outputs": [
        {
          "output_type": "stream",
          "text": [
            "Index(['Month', 'OperatingSystems', 'Browser', 'Region', 'TrafficType',\n",
            "       'VisitorType', 'Weekend'],\n",
            "      dtype='object') 7\n"
          ],
          "name": "stdout"
        },
        {
          "output_type": "display_data",
          "data": {
            "image/png": "[encoded data removed]",
            "text/plain": [
              "<Figure size 1296x360 with 7 Axes>"
            ]
          },
          "metadata": {
            "tags": []
          }
        }
      ]
    },
    {
      "cell_type": "markdown",
      "metadata": {
        "id": "mFbWKQcDcutq"
      },
      "source": [
        "**Gráfica de cajas - variables numéricas**"
      ]
    },
    {
      "cell_type": "code",
      "metadata": {
        "colab": {
          "base_uri": "https://localhost:8080/",
          "height": 514
        },
        "id": "6kBryxglRL9M",
        "outputId": "3c495cbc-18e7-4808-c3ac-e974dce6a748"
      },
      "source": [
        "columnas_num = df.select_dtypes(include=['int64', 'float64']).columns\r\n",
        "fig, axes = plt.subplots(nrows=1, ncols=len(columnas_num), figsize=(18, 7))\r\n",
        "for i, colum in enumerate(columnas_num):\r\n",
        "    df.boxplot(colum, ax=axes.flatten()[i])\r\n",
        "fig.tight_layout()\r\n",
        "plt.subplots_adjust(top=0.9)\r\n",
        "fig.suptitle('Diagrama de caja variables cuantitativas', fontsize = 10, fontweight = \"bold\");"
      ],
      "execution_count": 5,
      "outputs": [
        {
          "output_type": "display_data",
          "data": {
            "image/png": "[encoded data removed]",
            "text/plain": [
              "<Figure size 1296x504 with 11 Axes>"
            ]
          },
          "metadata": {
            "tags": []
          }
        }
      ]
    },
    {
      "cell_type": "code",
      "metadata": {
        "colab": {
          "base_uri": "https://localhost:8080/"
        },
        "id": "dGRvoGgQAPsm",
        "outputId": "70442bc9-9456-4adc-83a1-c289570b64a0"
      },
      "source": [
        "print('Valores únicos')\r\n",
        "for i in range(df.shape[1]):\r\n",
        "  print(df.columns.values[i])\r\n",
        "  print(df.iloc[:,i].unique())"
      ],
      "execution_count": 6,
      "outputs": [
        {
          "output_type": "stream",
          "text": [
            "Valores únicos\n",
            "Administrative\n",
            "[ 0  1  2  4 12  3 10  6  5  9  8 16 13 11  7 18 14 17 19 15 24 22 21 20\n",
            " 23 27 26]\n",
            "Administrative_Duration\n",
            "[  0.         53.         64.6       ... 167.9107143 305.125\n",
            " 150.3571429]\n",
            "Informational\n",
            "[ 0  1  2  4 16  5  3 14  6 12  7  9 10  8 11 24 13]\n",
            "Informational_Duration\n",
            "[  0.   120.    16.   ... 547.75 368.25 211.25]\n",
            "ProductRelated\n",
            "[  1   2  10  19   0   3  16   7   6  23  13  20   8   5  32   4  45  14\n",
            "  52   9  46  15  22  11  12  36  42  27  90  18  38  17 128  25  30  21\n",
            "  51  26  28  31  24  50  96  49  68  98  67  55  35  37  29  34  71  63\n",
            "  87  40  33  54  64  75  39 111  81  61  47  44  88 149  41  79  66  43\n",
            " 258  80  62  83 173  48  58  57  56  69  82  59 109 287  53  84  78 137\n",
            " 113  89  65  60 104 129  77  74  93  76  72 194 140 110 132 115  73 328\n",
            " 160  86 150  95 130 151 117 124 127 125 116 105  92 157 154 220 187 112\n",
            " 131 159  94 204 142 206 102 313 145  85  97 198 181 126 106 101 108 119\n",
            "  70 122  91 276 100 291 114 172 217 141 133 156 136 180 135 195  99 362\n",
            " 179 118 175 148 440 103 178 184 705 134 176 146 189 120 193 222 121 107\n",
            " 305 199 439 223 230 280 377 310 158 486 153 139 182 221 229 216 170 202\n",
            " 346 274 240 162 123 211 227 168 161 429 686 167 518 256 255 358 213 191\n",
            " 282 155 138 246 237 271 171 414 219 262 409 243 241 197 449 143 188 391\n",
            " 238 152 165 293 174 584 164 311 340 250 200 385 292 232 251 517 225 169\n",
            " 309 235 501 224 275 318 144 397 343 245 186 337 351 166 349 423 359 163\n",
            " 147 264 312 226 324 266 260 338 272 534 470 207 218 326 190 304 205 233\n",
            " 401 177 330 286 247 357 315 231 339 283 374 248 279 281 234 261 290 336\n",
            " 378 254 183 210 192]\n",
            "ProductRelated_Duration\n",
            "[  0.          64.           2.66666667 ... 465.75       184.25\n",
            " 346.        ]\n",
            "BounceRates\n",
            "[0.2        0.         0.05       ... 0.00382775 0.00086956 0.01114899]\n",
            "ExitRates\n",
            "[0.2        0.1        0.14       ... 0.01276133 0.01395349 0.02903061]\n",
            "PageValues\n",
            "[ 0.         54.17976426 19.44707913 ... 78.81172527  3.68540082\n",
            " 12.24171745]\n",
            "SpecialDay\n",
            "[0.  0.4 0.8 1.  0.2 0.6]\n",
            "Month\n",
            "['Feb' 'Mar' 'May' 'Oct' 'June' 'Jul' 'Aug' 'Nov' 'Sep' 'Dec']\n",
            "OperatingSystems\n",
            "[1 2 4 3 7 6 8 5]\n",
            "Browser\n",
            "[1 2 3 4 5 6 7 10 8 9 12 13 11]\n",
            "Region\n",
            "[1 9 2 3 4 5 6 7 8]\n",
            "TrafficType\n",
            "[1 2 3 4 5 6 7 8 9 10 11 12 13 14 15 18 19 16 17 20]\n",
            "VisitorType\n",
            "['Returning_Visitor' 'New_Visitor' 'Other']\n",
            "Weekend\n",
            "[False True]\n",
            "Revenue\n",
            "[0 1]\n"
          ],
          "name": "stdout"
        }
      ]
    },
    {
      "cell_type": "code",
      "metadata": {
        "colab": {
          "base_uri": "https://localhost:8080/",
          "height": 759
        },
        "id": "V2erUsd4r07h",
        "outputId": "39606b65-8c8f-4fd5-9fdc-61e378f5db2a"
      },
      "source": [
        "sb.set()\r\n",
        "plt.rcParams['figure.figsize'] = (18, 10)\r\n",
        "pearsoncorr = df.corr(method='pearson')\r\n",
        "pearsoncorr\r\n",
        "mask = np.zeros_like(pearsoncorr)\r\n",
        "mask[np.triu_indices_from(mask)] = True\r\n",
        "sb.heatmap(pearsoncorr, annot=True, cmap='Spectral_r', mask=mask)\r\n",
        "plt.title('Matriz de Correlación Pearson')"
      ],
      "execution_count": 8,
      "outputs": [
        {
          "output_type": "execute_result",
          "data": {
            "text/plain": [
              "Text(0.5, 1.0, 'Matriz de Correlación Pearson')"
            ]
          },
          "metadata": {
            "tags": []
          },
          "execution_count": 8
        },
        {
          "output_type": "display_data",
          "data": {
            "image/png": "[encoded data removed]",
            "text/plain": [
              "<Figure size 1296x720 with 2 Axes>"
            ]
          },
          "metadata": {
            "tags": []
          }
        }
      ]
    },
    {
      "cell_type": "markdown",
      "metadata": {
        "id": "RhXLymt1bLJR"
      },
      "source": [
        "**Tablas de Contingencia**"
      ]
    },
    {
      "cell_type": "code",
      "metadata": {
        "colab": {
          "base_uri": "https://localhost:8080/",
          "height": 394
        },
        "id": "en2_B6iVbKTC",
        "outputId": "e68bd7f1-34b4-474c-dc58-b4be0bdf88a2"
      },
      "source": [
        "pd.crosstab(df['Month'], df['Revenue'])"
      ],
      "execution_count": 9,
      "outputs": [
        {
          "output_type": "execute_result",
          "data": {
            "text/html": [
              "<div>\n",
              "<style scoped>\n",
              "    .dataframe tbody tr th:only-of-type {\n",
              "        vertical-align: middle;\n",
              "    }\n",
              "\n",
              "    .dataframe tbody tr th {\n",
              "        vertical-align: top;\n",
              "    }\n",
              "\n",
              "    .dataframe thead th {\n",
              "        text-align: right;\n",
              "    }\n",
              "</style>\n",
              "<table border=\"1\" class=\"dataframe\">\n",
              "  <thead>\n",
              "    <tr style=\"text-align: right;\">\n",
              "      <th>Revenue</th>\n",
              "      <th>0</th>\n",
              "      <th>1</th>\n",
              "    </tr>\n",
              "    <tr>\n",
              "      <th>Month</th>\n",
              "      <th></th>\n",
              "      <th></th>\n",
              "    </tr>\n",
              "  </thead>\n",
              "  <tbody>\n",
              "    <tr>\n",
              "      <th>Aug</th>\n",
              "      <td>357</td>\n",
              "      <td>76</td>\n",
              "    </tr>\n",
              "    <tr>\n",
              "      <th>Dec</th>\n",
              "      <td>1511</td>\n",
              "      <td>216</td>\n",
              "    </tr>\n",
              "    <tr>\n",
              "      <th>Feb</th>\n",
              "      <td>181</td>\n",
              "      <td>3</td>\n",
              "    </tr>\n",
              "    <tr>\n",
              "      <th>Jul</th>\n",
              "      <td>366</td>\n",
              "      <td>66</td>\n",
              "    </tr>\n",
              "    <tr>\n",
              "      <th>June</th>\n",
              "      <td>259</td>\n",
              "      <td>29</td>\n",
              "    </tr>\n",
              "    <tr>\n",
              "      <th>Mar</th>\n",
              "      <td>1715</td>\n",
              "      <td>192</td>\n",
              "    </tr>\n",
              "    <tr>\n",
              "      <th>May</th>\n",
              "      <td>2999</td>\n",
              "      <td>365</td>\n",
              "    </tr>\n",
              "    <tr>\n",
              "      <th>Nov</th>\n",
              "      <td>2238</td>\n",
              "      <td>760</td>\n",
              "    </tr>\n",
              "    <tr>\n",
              "      <th>Oct</th>\n",
              "      <td>434</td>\n",
              "      <td>115</td>\n",
              "    </tr>\n",
              "    <tr>\n",
              "      <th>Sep</th>\n",
              "      <td>362</td>\n",
              "      <td>86</td>\n",
              "    </tr>\n",
              "  </tbody>\n",
              "</table>\n",
              "</div>"
            ],
            "text/plain": [
              "Revenue     0    1\n",
              "Month             \n",
              "Aug       357   76\n",
              "Dec      1511  216\n",
              "Feb       181    3\n",
              "Jul       366   66\n",
              "June      259   29\n",
              "Mar      1715  192\n",
              "May      2999  365\n",
              "Nov      2238  760\n",
              "Oct       434  115\n",
              "Sep       362   86"
            ]
          },
          "metadata": {
            "tags": []
          },
          "execution_count": 9
        }
      ]
    },
    {
      "cell_type": "code",
      "metadata": {
        "colab": {
          "base_uri": "https://localhost:8080/",
          "height": 489
        },
        "id": "F49T5Tv-bXsa",
        "outputId": "dc86ba70-2448-4056-fb17-c8f8f1bee7d8"
      },
      "source": [
        "pd.crosstab(df['Browser'], df['Revenue'])"
      ],
      "execution_count": 10,
      "outputs": [
        {
          "output_type": "execute_result",
          "data": {
            "text/html": [
              "<div>\n",
              "<style scoped>\n",
              "    .dataframe tbody tr th:only-of-type {\n",
              "        vertical-align: middle;\n",
              "    }\n",
              "\n",
              "    .dataframe tbody tr th {\n",
              "        vertical-align: top;\n",
              "    }\n",
              "\n",
              "    .dataframe thead th {\n",
              "        text-align: right;\n",
              "    }\n",
              "</style>\n",
              "<table border=\"1\" class=\"dataframe\">\n",
              "  <thead>\n",
              "    <tr style=\"text-align: right;\">\n",
              "      <th>Revenue</th>\n",
              "      <th>0</th>\n",
              "      <th>1</th>\n",
              "    </tr>\n",
              "    <tr>\n",
              "      <th>Browser</th>\n",
              "      <th></th>\n",
              "      <th></th>\n",
              "    </tr>\n",
              "  </thead>\n",
              "  <tbody>\n",
              "    <tr>\n",
              "      <th>1</th>\n",
              "      <td>2097</td>\n",
              "      <td>365</td>\n",
              "    </tr>\n",
              "    <tr>\n",
              "      <th>2</th>\n",
              "      <td>6738</td>\n",
              "      <td>1223</td>\n",
              "    </tr>\n",
              "    <tr>\n",
              "      <th>3</th>\n",
              "      <td>100</td>\n",
              "      <td>5</td>\n",
              "    </tr>\n",
              "    <tr>\n",
              "      <th>4</th>\n",
              "      <td>606</td>\n",
              "      <td>130</td>\n",
              "    </tr>\n",
              "    <tr>\n",
              "      <th>5</th>\n",
              "      <td>381</td>\n",
              "      <td>86</td>\n",
              "    </tr>\n",
              "    <tr>\n",
              "      <th>6</th>\n",
              "      <td>154</td>\n",
              "      <td>20</td>\n",
              "    </tr>\n",
              "    <tr>\n",
              "      <th>7</th>\n",
              "      <td>43</td>\n",
              "      <td>6</td>\n",
              "    </tr>\n",
              "    <tr>\n",
              "      <th>8</th>\n",
              "      <td>114</td>\n",
              "      <td>21</td>\n",
              "    </tr>\n",
              "    <tr>\n",
              "      <th>9</th>\n",
              "      <td>1</td>\n",
              "      <td>0</td>\n",
              "    </tr>\n",
              "    <tr>\n",
              "      <th>10</th>\n",
              "      <td>131</td>\n",
              "      <td>32</td>\n",
              "    </tr>\n",
              "    <tr>\n",
              "      <th>11</th>\n",
              "      <td>5</td>\n",
              "      <td>1</td>\n",
              "    </tr>\n",
              "    <tr>\n",
              "      <th>12</th>\n",
              "      <td>7</td>\n",
              "      <td>3</td>\n",
              "    </tr>\n",
              "    <tr>\n",
              "      <th>13</th>\n",
              "      <td>45</td>\n",
              "      <td>16</td>\n",
              "    </tr>\n",
              "  </tbody>\n",
              "</table>\n",
              "</div>"
            ],
            "text/plain": [
              "Revenue     0     1\n",
              "Browser            \n",
              "1        2097   365\n",
              "2        6738  1223\n",
              "3         100     5\n",
              "4         606   130\n",
              "5         381    86\n",
              "6         154    20\n",
              "7          43     6\n",
              "8         114    21\n",
              "9           1     0\n",
              "10        131    32\n",
              "11          5     1\n",
              "12          7     3\n",
              "13         45    16"
            ]
          },
          "metadata": {
            "tags": []
          },
          "execution_count": 10
        }
      ]
    },
    {
      "cell_type": "code",
      "metadata": {
        "colab": {
          "base_uri": "https://localhost:8080/",
          "height": 708
        },
        "id": "9qj5Xm59bntT",
        "outputId": "2ea0cbf9-300c-46e2-cea6-00474d164272"
      },
      "source": [
        "pd.crosstab(df['TrafficType'], df['Revenue'])"
      ],
      "execution_count": 11,
      "outputs": [
        {
          "output_type": "execute_result",
          "data": {
            "text/html": [
              "<div>\n",
              "<style scoped>\n",
              "    .dataframe tbody tr th:only-of-type {\n",
              "        vertical-align: middle;\n",
              "    }\n",
              "\n",
              "    .dataframe tbody tr th {\n",
              "        vertical-align: top;\n",
              "    }\n",
              "\n",
              "    .dataframe thead th {\n",
              "        text-align: right;\n",
              "    }\n",
              "</style>\n",
              "<table border=\"1\" class=\"dataframe\">\n",
              "  <thead>\n",
              "    <tr style=\"text-align: right;\">\n",
              "      <th>Revenue</th>\n",
              "      <th>0</th>\n",
              "      <th>1</th>\n",
              "    </tr>\n",
              "    <tr>\n",
              "      <th>TrafficType</th>\n",
              "      <th></th>\n",
              "      <th></th>\n",
              "    </tr>\n",
              "  </thead>\n",
              "  <tbody>\n",
              "    <tr>\n",
              "      <th>1</th>\n",
              "      <td>2189</td>\n",
              "      <td>262</td>\n",
              "    </tr>\n",
              "    <tr>\n",
              "      <th>2</th>\n",
              "      <td>3066</td>\n",
              "      <td>847</td>\n",
              "    </tr>\n",
              "    <tr>\n",
              "      <th>3</th>\n",
              "      <td>1872</td>\n",
              "      <td>180</td>\n",
              "    </tr>\n",
              "    <tr>\n",
              "      <th>4</th>\n",
              "      <td>904</td>\n",
              "      <td>165</td>\n",
              "    </tr>\n",
              "    <tr>\n",
              "      <th>5</th>\n",
              "      <td>204</td>\n",
              "      <td>56</td>\n",
              "    </tr>\n",
              "    <tr>\n",
              "      <th>6</th>\n",
              "      <td>391</td>\n",
              "      <td>53</td>\n",
              "    </tr>\n",
              "    <tr>\n",
              "      <th>7</th>\n",
              "      <td>28</td>\n",
              "      <td>12</td>\n",
              "    </tr>\n",
              "    <tr>\n",
              "      <th>8</th>\n",
              "      <td>248</td>\n",
              "      <td>95</td>\n",
              "    </tr>\n",
              "    <tr>\n",
              "      <th>9</th>\n",
              "      <td>38</td>\n",
              "      <td>4</td>\n",
              "    </tr>\n",
              "    <tr>\n",
              "      <th>10</th>\n",
              "      <td>360</td>\n",
              "      <td>90</td>\n",
              "    </tr>\n",
              "    <tr>\n",
              "      <th>11</th>\n",
              "      <td>200</td>\n",
              "      <td>47</td>\n",
              "    </tr>\n",
              "    <tr>\n",
              "      <th>12</th>\n",
              "      <td>1</td>\n",
              "      <td>0</td>\n",
              "    </tr>\n",
              "    <tr>\n",
              "      <th>13</th>\n",
              "      <td>695</td>\n",
              "      <td>43</td>\n",
              "    </tr>\n",
              "    <tr>\n",
              "      <th>14</th>\n",
              "      <td>11</td>\n",
              "      <td>2</td>\n",
              "    </tr>\n",
              "    <tr>\n",
              "      <th>15</th>\n",
              "      <td>38</td>\n",
              "      <td>0</td>\n",
              "    </tr>\n",
              "    <tr>\n",
              "      <th>16</th>\n",
              "      <td>2</td>\n",
              "      <td>1</td>\n",
              "    </tr>\n",
              "    <tr>\n",
              "      <th>17</th>\n",
              "      <td>1</td>\n",
              "      <td>0</td>\n",
              "    </tr>\n",
              "    <tr>\n",
              "      <th>18</th>\n",
              "      <td>10</td>\n",
              "      <td>0</td>\n",
              "    </tr>\n",
              "    <tr>\n",
              "      <th>19</th>\n",
              "      <td>16</td>\n",
              "      <td>1</td>\n",
              "    </tr>\n",
              "    <tr>\n",
              "      <th>20</th>\n",
              "      <td>148</td>\n",
              "      <td>50</td>\n",
              "    </tr>\n",
              "  </tbody>\n",
              "</table>\n",
              "</div>"
            ],
            "text/plain": [
              "Revenue         0    1\n",
              "TrafficType           \n",
              "1            2189  262\n",
              "2            3066  847\n",
              "3            1872  180\n",
              "4             904  165\n",
              "5             204   56\n",
              "6             391   53\n",
              "7              28   12\n",
              "8             248   95\n",
              "9              38    4\n",
              "10            360   90\n",
              "11            200   47\n",
              "12              1    0\n",
              "13            695   43\n",
              "14             11    2\n",
              "15             38    0\n",
              "16              2    1\n",
              "17              1    0\n",
              "18             10    0\n",
              "19             16    1\n",
              "20            148   50"
            ]
          },
          "metadata": {
            "tags": []
          },
          "execution_count": 11
        }
      ]
    },
    {
      "cell_type": "markdown",
      "metadata": {
        "id": "uKcCrt7Y4ypz"
      },
      "source": [
        "**Modelando**"
      ]
    },
    {
      "cell_type": "code",
      "metadata": {
        "id": "dH2Z55Gp41bC"
      },
      "source": [
        "df['VisitorType_T'] = df[['VisitorType']].replace({'VisitorType' : { 'New_Visitor' : 0, 'Returning_Visitor' : 1, 'Other' : 2 }})\r\n",
        "df['Weekend_T'] = df['Weekend'].astype(int)\r\n",
        "df['Month_T'] = df[['Month']].replace({'Month' : {'Feb' : 4, 'Mar' : 2, 'May' : 2, 'June' : 2\r\n",
        "    , 'Jul' : 1, 'Aug' : 1, 'Sep' : 3, 'Oct' : 3, 'Nov' : 3, 'Nov' : 3, 'Dec' : 1}})\r\n",
        "\r\n",
        "df['Browser_T'] = df['Browser'].replace(1,1)\r\n",
        "df['Browser_T'] = df['Browser'].replace(2,1)\r\n",
        "df['Browser_T'] = df['Browser'].replace(6,1)\r\n",
        "df['Browser_T'] = df['Browser'].replace(7,1)\r\n",
        "df['Browser_T'] = df['Browser'].replace(8,1)\r\n",
        "\r\n",
        "df['Browser_T'] = df['Browser'].replace(4,2)\r\n",
        "df['Browser_T'] = df['Browser'].replace(5,2)\r\n",
        "df['Browser_T'] = df['Browser'].replace(10,2)\r\n",
        "\r\n",
        "df['Browser_T'] = df['Browser'].replace(12,3)\r\n",
        "df['Browser_T'] = df['Browser'].replace(13,3)\r\n",
        "df['Browser_T'] = df['Browser'].replace(11,3)\r\n",
        "\r\n",
        "df['Browser_T'] = df['Browser'].replace(3,4)\r\n",
        "\r\n",
        "df['TrafficType_T']=df['TrafficType']\r\n",
        "\r\n",
        "\r\n",
        "df['TrafficType_T'] = df['TrafficType_T'].replace(1,1)\r\n",
        "df['TrafficType_T'] = df['TrafficType_T'].replace(3,1)\r\n",
        "df['TrafficType_T'] = df['TrafficType_T'].replace(9,1)\r\n",
        "df['TrafficType_T'] = df['TrafficType_T'].replace(13,1)\r\n",
        "df['TrafficType_T'] = df['TrafficType_T'].replace(14,1)\r\n",
        "df['TrafficType_T'] = df['TrafficType_T'].replace(19,1)\r\n",
        "\r\n",
        "df['TrafficType_T'] = df['TrafficType_T'].replace(2,2)\r\n",
        "df['TrafficType_T'] = df['TrafficType_T'].replace(7,2)\r\n",
        "df['TrafficType_T'] = df['TrafficType_T'].replace(8,2)\r\n",
        "df['TrafficType_T'] = df['TrafficType_T'].replace(16,2)\r\n",
        "df['TrafficType_T'] = df['TrafficType_T'].replace(20,2)\r\n",
        "\r\n",
        "df['TrafficType_T'] = df['TrafficType_T'].replace(4,3)\r\n",
        "df['TrafficType_T'] = df['TrafficType_T'].replace(5,3)\r\n",
        "df['TrafficType_T'] = df['TrafficType_T'].replace(6,3)\r\n",
        "df['TrafficType_T'] = df['TrafficType_T'].replace(10,3)\r\n",
        "df['TrafficType_T'] = df['TrafficType_T'].replace(11,3)\r\n",
        "\r\n",
        "df['TrafficType_T'] = df['TrafficType_T'].replace(15,4)\r\n",
        "df['TrafficType_T'] = df['TrafficType_T'].replace(18,4)\r\n",
        "df1 = df.copy()"
      ],
      "execution_count": 13,
      "outputs": []
    },
    {
      "cell_type": "markdown",
      "metadata": {
        "id": "bBbqCMPpXRlJ"
      },
      "source": [
        "**Eliminando Outliers**"
      ]
    },
    {
      "cell_type": "code",
      "metadata": {
        "colab": {
          "base_uri": "https://localhost:8080/"
        },
        "id": "NrRFeFxmXU_L",
        "outputId": "1464b6c6-0bf9-4268-a913-812c7faf2c90"
      },
      "source": [
        "print('Tamaño inicial', df1.shape)\r\n",
        "df1 = df.drop(df[df['Administrative_Duration']>1600].index)\r\n",
        "print('Paso 1',df1.shape)\r\n",
        "df1 = df1.drop(df1[df1['ProductRelated_Duration']>2500].index)\r\n",
        "print('Paso 2', df1.shape)"
      ],
      "execution_count": 14,
      "outputs": [
        {
          "output_type": "stream",
          "text": [
            "Tamaño inicial (12330, 23)\n",
            "Paso 1 (12308, 23)\n",
            "Paso 2 (10758, 23)\n"
          ],
          "name": "stdout"
        }
      ]
    },
    {
      "cell_type": "code",
      "metadata": {
        "colab": {
          "base_uri": "https://localhost:8080/"
        },
        "id": "Ai9tVU2vYHLR",
        "outputId": "94882aeb-01de-4c21-9c44-5ac7f5712e58"
      },
      "source": [
        "X = df1[[\"Administrative_Duration\",\"Informational_Duration\",\"ProductRelated_Duration\",\"PageValues\",\r\n",
        "                   \"SpecialDay\",\"VisitorType_T\",\"TrafficType_T\",\"Weekend_T\",\"Browser_T\",\"Month_T\"]]\r\n",
        "y = df1['Revenue']\r\n",
        "\r\n",
        "X = pd.get_dummies(X, columns = [\"VisitorType_T\", \"Weekend_T\",\"TrafficType_T\",\"Browser_T\",\"Month_T\"], drop_first = True)\r\n",
        "\r\n",
        "X_train, X_test, y_train, y_test = train_test_split(X,y, test_size=0.3, stratify=y, random_state=42)\r\n",
        "print(X_train.shape, X_test.shape)"
      ],
      "execution_count": 15,
      "outputs": [
        {
          "output_type": "stream",
          "text": [
            "(7530, 27) (3228, 27)\n"
          ],
          "name": "stdout"
        }
      ]
    },
    {
      "cell_type": "markdown",
      "metadata": {
        "id": "XH3NdgFkEKoA"
      },
      "source": [
        "**Agrupamiento con Kmeans**"
      ]
    },
    {
      "cell_type": "code",
      "metadata": {
        "colab": {
          "base_uri": "https://localhost:8080/",
          "height": 648
        },
        "id": "gp6MTWtEgbNg",
        "outputId": "cee71caf-f2f2-4964-c5ca-62d97586af77"
      },
      "source": [
        "from sklearn.cluster import KMeans\r\n",
        "print('Obtener el valor K')\r\n",
        "Nc = range(1, 10)\r\n",
        "kmeans = [KMeans(n_clusters = i) for i in Nc]\r\n",
        "score = [kmeans[i].fit(X_train).score(X_test) for i in range(len(kmeans))]\r\n",
        "plt.plot(Nc,score)\r\n",
        "plt.xlabel('Nro de Clusters')\r\n",
        "plt.ylabel('Score')\r\n",
        "plt.title('Curva de codo')\r\n",
        "plt.show()"
      ],
      "execution_count": 16,
      "outputs": [
        {
          "output_type": "stream",
          "text": [
            "Obtener el valor K\n"
          ],
          "name": "stdout"
        },
        {
          "output_type": "display_data",
          "data": {
            "image/png": "[encoded data removed]",
            "text/plain": [
              "<Figure size 1296x720 with 1 Axes>"
            ]
          },
          "metadata": {
            "tags": []
          }
        }
      ]
    },
    {
      "cell_type": "markdown",
      "metadata": {
        "id": "HQdAexB6ZTZK"
      },
      "source": [
        "**Modelo KNN**"
      ]
    },
    {
      "cell_type": "code",
      "metadata": {
        "colab": {
          "base_uri": "https://localhost:8080/"
        },
        "id": "LIFoAzqOn17J",
        "outputId": "4e8a684f-00c4-471a-f1cd-f773018fcf2d"
      },
      "source": [
        "from sklearn.neighbors import KNeighborsClassifier\r\n",
        "from sklearn.model_selection import GridSearchCV\r\n",
        "hiper1 = {'leaf_size': np.arange(1,16), 'p': np.array([4,5,6])}\r\n",
        "grid = GridSearchCV(KNeighborsClassifier(n_neighbors=4), hiper1, cv=10)\r\n",
        "grid.fit(X_train, y_train)\r\n",
        "grid.best_params_"
      ],
      "execution_count": 38,
      "outputs": [
        {
          "output_type": "execute_result",
          "data": {
            "text/plain": [
              "{'leaf_size': 1, 'p': 5}"
            ]
          },
          "metadata": {
            "tags": []
          },
          "execution_count": 38
        }
      ]
    },
    {
      "cell_type": "code",
      "metadata": {
        "colab": {
          "base_uri": "https://localhost:8080/"
        },
        "id": "fwpUt06Afton",
        "outputId": "debfe95b-1a7b-4635-a0e1-7e4e7603942e"
      },
      "source": [
        "knn = KNeighborsClassifier(n_neighbors=4, leaf_size=1, p=5)\r\n",
        "knn.fit(X_train, y_train)\r\n",
        "print('Con KNN')\r\n",
        "print('SCORE', knn.score(X_test, y_test))"
      ],
      "execution_count": 39,
      "outputs": [
        {
          "output_type": "stream",
          "text": [
            "Con KNN\n",
            "SCORE 0.8921933085501859\n"
          ],
          "name": "stdout"
        }
      ]
    },
    {
      "cell_type": "markdown",
      "metadata": {
        "id": "gJsObGb-ZOOq"
      },
      "source": [
        "**Modelo - Random Forest**"
      ]
    },
    {
      "cell_type": "code",
      "metadata": {
        "colab": {
          "base_uri": "https://localhost:8080/"
        },
        "id": "nv7CkUAyUZpd",
        "outputId": "43f6904d-0fe2-4492-b1e7-eec62f4a032b"
      },
      "source": [
        "from sklearn.ensemble import RandomForestClassifier, VotingClassifier\r\n",
        "hiper1 = {'n_estimators': np.array([100,150,200]), 'min_samples_leaf': np.arange(4,7)}\r\n",
        "grid = GridSearchCV(RandomForestClassifier(random_state=42, n_jobs = -1), hiper1, cv=10)\r\n",
        "grid.fit(X_train, y_train)\r\n",
        "grid.best_params_"
      ],
      "execution_count": 40,
      "outputs": [
        {
          "output_type": "execute_result",
          "data": {
            "text/plain": [
              "{'min_samples_leaf': 6, 'n_estimators': 100}"
            ]
          },
          "metadata": {
            "tags": []
          },
          "execution_count": 40
        }
      ]
    },
    {
      "cell_type": "code",
      "metadata": {
        "colab": {
          "base_uri": "https://localhost:8080/"
        },
        "id": "OSHg-IQ7oquV",
        "outputId": "8ba7eb2a-ecbb-4ae4-c2ec-fba1efd821b1"
      },
      "source": [
        "rfc = RandomForestClassifier(random_state=42, n_jobs = -1, n_estimators= 100, min_samples_leaf=6)\r\n",
        "rfc.fit(X_train, y_train)\r\n",
        "print('Con random forestt')\r\n",
        "print('SCORE', rfc.score(X_test, y_test))"
      ],
      "execution_count": 41,
      "outputs": [
        {
          "output_type": "stream",
          "text": [
            "Con random forestt\n",
            "SCORE 0.9107806691449815\n"
          ],
          "name": "stdout"
        }
      ]
    },
    {
      "cell_type": "markdown",
      "metadata": {
        "id": "ZgV49x0eZkUs"
      },
      "source": [
        "**Modelo - Supoort Vector Classifier**"
      ]
    },
    {
      "cell_type": "code",
      "metadata": {
        "colab": {
          "base_uri": "https://localhost:8080/"
        },
        "id": "Zh3fumHOaNbh",
        "outputId": "9899ce29-fe7b-411e-ddd9-8258674ff9fa"
      },
      "source": [
        "from sklearn.svm import SVC\r\n",
        "hiper1 = {'C': np.array([0.1,1,10]), 'gamma': np.array([0.01,0.001,0.0001])}\r\n",
        "grid = GridSearchCV(SVC(kernel='rbf'), hiper1, cv=10)\r\n",
        "grid.fit(X_train, y_train)\r\n",
        "grid.best_params_"
      ],
      "execution_count": 58,
      "outputs": [
        {
          "output_type": "execute_result",
          "data": {
            "text/plain": [
              "{'C': 1.0, 'gamma': 0.0001}"
            ]
          },
          "metadata": {
            "tags": []
          },
          "execution_count": 58
        }
      ]
    },
    {
      "cell_type": "code",
      "metadata": {
        "colab": {
          "base_uri": "https://localhost:8080/"
        },
        "id": "_MAznmampMR5",
        "outputId": "df7a3f68-e838-46ff-8951-353fabb63440"
      },
      "source": [
        "svm = SVC(kernel='rbf', probability=True, C=1, gamma=0.0001)\r\n",
        "svm.fit(X_train, y_train)\r\n",
        "print('Con SVC')\r\n",
        "print('SCORE', svm.score(X_test, y_test))"
      ],
      "execution_count": 59,
      "outputs": [
        {
          "output_type": "stream",
          "text": [
            "Con SVC\n",
            "SCORE 0.8983890954151177\n"
          ],
          "name": "stdout"
        }
      ]
    },
    {
      "cell_type": "markdown",
      "metadata": {
        "id": "5fGkSvZquA6l"
      },
      "source": [
        "**Modelo - Logistic regression**"
      ]
    },
    {
      "cell_type": "code",
      "metadata": {
        "colab": {
          "base_uri": "https://localhost:8080/"
        },
        "id": "IDiHeLMNuGQ1",
        "outputId": "ea2f8b32-0ef7-4be9-8ca5-73b190edd86b"
      },
      "source": [
        "from sklearn.linear_model import LogisticRegression\r\n",
        "hiper1 = {'C': np.array([3,4,5,6]), 'tol': np.array([5,1,0.1])}\r\n",
        "grid = GridSearchCV(LogisticRegression(random_state=42, n_jobs=-1), hiper1, cv=10)\r\n",
        "grid.fit(X_train, y_train)\r\n",
        "grid.best_params_"
      ],
      "execution_count": 28,
      "outputs": [
        {
          "output_type": "execute_result",
          "data": {
            "text/plain": [
              "{'C': 5, 'tol': 5.0}"
            ]
          },
          "metadata": {
            "tags": []
          },
          "execution_count": 28
        }
      ]
    },
    {
      "cell_type": "code",
      "metadata": {
        "colab": {
          "base_uri": "https://localhost:8080/"
        },
        "id": "7RlEysJwvWqQ",
        "outputId": "02ddb6c8-4e59-4b83-eb22-b69aa023a0c7"
      },
      "source": [
        "lrg = LogisticRegression(random_state=42, n_jobs=-1, C=5, tol=5)\r\n",
        "lrg.fit(X_train, y_train)\r\n",
        "print('Con Logistic Regression')\r\n",
        "print('SCORE', lrg.score(X_test, y_test))"
      ],
      "execution_count": 44,
      "outputs": [
        {
          "output_type": "stream",
          "text": [
            "Con Logistic Regression\n",
            "SCORE 0.9021065675340768\n"
          ],
          "name": "stdout"
        }
      ]
    },
    {
      "cell_type": "markdown",
      "metadata": {
        "id": "Bqsgy4FRuGpG"
      },
      "source": [
        "**Modelo de ensamble Voting Classifier**"
      ]
    },
    {
      "cell_type": "code",
      "metadata": {
        "colab": {
          "base_uri": "https://localhost:8080/"
        },
        "id": "OowZI8hAqS_O",
        "outputId": "ef215290-6233-4047-abdf-5c8d5427ac89"
      },
      "source": [
        "evc = VotingClassifier(estimators=[('knn', knn),('rfc', rfc),('svc', svm),('lr', lrg)], voting='hard')\r\n",
        "evc.fit(X_train, y_train)\r\n",
        "print('COn ensemble Voting hard')\r\n",
        "print('SCORE', evc.score(X_test, y_test))"
      ],
      "execution_count": 60,
      "outputs": [
        {
          "output_type": "stream",
          "text": [
            "COn ensemble Voting hard\n",
            "SCORE 0.8996282527881041\n"
          ],
          "name": "stdout"
        }
      ]
    },
    {
      "cell_type": "code",
      "metadata": {
        "colab": {
          "base_uri": "https://localhost:8080/"
        },
        "id": "09VBdr3TeXp0",
        "outputId": "3882f76f-6ac0-4b55-809e-6cefba1df1a0"
      },
      "source": [
        "evc = VotingClassifier(estimators=[('lr', lrg),('rfc', rfc), ('knn', knn), ('svc', svm)], voting='soft'\r\n",
        "    , weights=[3,4,2,1])\r\n",
        "evc.fit(X_train, y_train)\r\n",
        "print('COn ensemble Voting')\r\n",
        "print('SCORE', evc.score(X_test, y_test))"
      ],
      "execution_count": 61,
      "outputs": [
        {
          "output_type": "stream",
          "text": [
            "COn ensemble Voting\n",
            "SCORE 0.9045848822800495\n"
          ],
          "name": "stdout"
        }
      ]
    },
    {
      "cell_type": "code",
      "metadata": {
        "colab": {
          "base_uri": "https://localhost:8080/"
        },
        "id": "ymllzHF9yuXS",
        "outputId": "679188d1-c810-4cd7-9665-ac7c2b54404c"
      },
      "source": [
        "from sklearn.metrics import accuracy_score\r\n",
        "for clf in (lrg, rfc, svm, knn, evc):\r\n",
        "    clf.fit(X_train, y_train)\r\n",
        "    y_pred = clf.predict(X_test)\r\n",
        "    print(clf.__class__.__name__, accuracy_score(y_test, y_pred))"
      ],
      "execution_count": 62,
      "outputs": [
        {
          "output_type": "stream",
          "text": [
            "LogisticRegression 0.9021065675340768\n",
            "RandomForestClassifier 0.9107806691449815\n",
            "SVC 0.8983890954151177\n",
            "KNeighborsClassifier 0.8921933085501859\n",
            "VotingClassifier 0.9045848822800495\n"
          ],
          "name": "stdout"
        }
      ]
    },
    {
      "cell_type": "code",
      "metadata": {
        "colab": {
          "base_uri": "https://localhost:8080/",
          "height": 632
        },
        "id": "78b-XmJRfOV6",
        "outputId": "ccfae6f4-e153-47e9-dd1a-f17be81441a7"
      },
      "source": [
        "from sklearn.metrics import confusion_matrix\r\n",
        "y_pred = evc.predict(X_test)\r\n",
        "cm = confusion_matrix(y_test, y_pred)\r\n",
        "sb.heatmap(cm, annot=True, fmt='d')\r\n",
        "plt.title('Matriz de confusión')"
      ],
      "execution_count": 63,
      "outputs": [
        {
          "output_type": "execute_result",
          "data": {
            "text/plain": [
              "Text(0.5, 1.0, 'Matriz de confusión')"
            ]
          },
          "metadata": {
            "tags": []
          },
          "execution_count": 63
        },
        {
          "output_type": "display_data",
          "data": {
            "image/png": "[encoded data removed]",
            "text/plain": [
              "<Figure size 1296x720 with 2 Axes>"
            ]
          },
          "metadata": {
            "tags": []
          }
        }
      ]
    },
    {
      "cell_type": "code",
      "metadata": {
        "colab": {
          "base_uri": "https://localhost:8080/"
        },
        "id": "perzoEFoEha4",
        "outputId": "f49a5d15-ecba-4430-e539-6f6b158e3d9d"
      },
      "source": [
        "from sklearn.metrics import classification_report\r\n",
        "print(classification_report(y_test, y_pred))"
      ],
      "execution_count": 64,
      "outputs": [
        {
          "output_type": "stream",
          "text": [
            "              precision    recall  f1-score   support\n",
            "\n",
            "           0       0.92      0.98      0.95      2785\n",
            "           1       0.76      0.44      0.56       443\n",
            "\n",
            "    accuracy                           0.90      3228\n",
            "   macro avg       0.84      0.71      0.75      3228\n",
            "weighted avg       0.90      0.90      0.89      3228\n",
            "\n"
          ],
          "name": "stdout"
        }
      ]
    },
    {
      "cell_type": "markdown",
      "metadata": {
        "id": "QbAoJSu9zjES"
      },
      "source": [
        "**Comprobando resultado**"
      ]
    },
    {
      "cell_type": "code",
      "metadata": {
        "colab": {
          "base_uri": "https://localhost:8080/"
        },
        "id": "1f88Ip7Ozn4h",
        "outputId": "272abf3c-d16f-481b-fafb-dbc003a262b6"
      },
      "source": [
        "n_row = 5\r\n",
        "y_pred1 = evc.predict([X_test.iloc[n_row].values])\r\n",
        "if y_pred1[0] == y_test.iloc[n_row]:\r\n",
        "  print('El modelo ha predecido el valor de', y_test.iloc[n_row])\r\n",
        "else:\r\n",
        "  print('El modelo no ha predecido', y_pred1[0] , '!=', y_test.iloc[n_row])"
      ],
      "execution_count": 65,
      "outputs": [
        {
          "output_type": "stream",
          "text": [
            "El modelo ha predecido el valor de 0\n"
          ],
          "name": "stdout"
        }
      ]
    }
  ]
}